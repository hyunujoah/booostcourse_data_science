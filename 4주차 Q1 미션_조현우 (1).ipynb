{
 "cells": [
  {
   "cell_type": "code",
   "execution_count": 2,
   "id": "25b82264-ea8c-4205-9f30-d20059f3a56b",
   "metadata": {},
   "outputs": [
    {
     "name": "stdout",
     "output_type": "stream",
     "text": [
      "             백만       연도       분기\n",
      "count   2772.00  2772.00  2772.00\n",
      "mean    1613.12  2019.27     2.41\n",
      "std     4273.43     1.60     1.11\n",
      "min   -10003.00  2017.00     1.00\n",
      "25%       41.75  2018.00     1.00\n",
      "50%      291.50  2019.00     2.00\n",
      "75%     1181.00  2021.00     3.00\n",
      "max    47689.00  2022.00     4.00\n"
     ]
    }
   ],
   "source": [
    "import pandas as pd\n",
    "import numpy as np\n",
    "import koreanize_matplotlib\n",
    "\n",
    "# 데이터 로드\n",
    "df = pd.read_csv(\n",
    "    \"https://raw.githubusercontent.com/corazzon/boostcourse-ds-510/master/data/online_oversea_sale_202210.csv.zip\", \n",
    "    encoding=\"cp949\"\n",
    ")\n",
    "\n",
    "# 컬럼 이름 변경: '데이터'를 '백만'으로 변경\n",
    "df.rename(columns={'데이터': '백만'}, inplace=True)\n",
    "\n",
    "# 시점 컬럼을 연도와 분기로 분리\n",
    "df[['연도', '분기']] = df['시점'].str.split('.', expand=True)\n",
    "\n",
    "# 분기에서 숫자만 남기기 (예: \"1/4\" -> \"1\")\n",
    "df['분기'] = df['분기'].str.extract(r'(\\d)').astype(int)\n",
    "\n",
    "# 연도와 분기를 숫자형으로 변환\n",
    "df['연도'] = df['연도'].astype(int)\n",
    "\n",
    "# 기술통계 구하기\n",
    "desc_stats = df[['백만', '연도', '분기']].describe()\n",
    "\n",
    "# 소수점 자릿수 맞추기\n",
    "desc_stats = desc_stats.apply(lambda x: np.round(x, 2))\n",
    "\n",
    "# 기술통계 출력\n",
    "print(desc_stats)\n"
   ]
  },
  {
   "cell_type": "code",
   "execution_count": null,
   "id": "e90c188d-5815-4950-bca2-ce8e5770273f",
   "metadata": {},
   "outputs": [],
   "source": []
  }
 ],
 "metadata": {
  "kernelspec": {
   "display_name": "Python 3 (ipykernel)",
   "language": "python",
   "name": "python3"
  },
  "language_info": {
   "codemirror_mode": {
    "name": "ipython",
    "version": 3
   },
   "file_extension": ".py",
   "mimetype": "text/x-python",
   "name": "python",
   "nbconvert_exporter": "python",
   "pygments_lexer": "ipython3",
   "version": "3.12.4"
  }
 },
 "nbformat": 4,
 "nbformat_minor": 5
}
