{
 "cells": [
  {
   "cell_type": "code",
   "execution_count": 1,
   "id": "3ad3bb3d-f328-4541-a3d8-292513877657",
   "metadata": {},
   "outputs": [],
   "source": [
    "import pandas as pd\n",
    "df = pd.read_csv(\"https://raw.githubusercontent.com/corazzon/boostcourse-ds-510/master/data/medical_201909.csv.zip\", low_memory=False)"
   ]
  },
  {
   "cell_type": "code",
   "execution_count": 2,
   "id": "3d20636f-ebd9-45a6-acaf-acbf4c588169",
   "metadata": {},
   "outputs": [
    {
     "name": "stdout",
     "output_type": "stream",
     "text": [
      "시도명\n",
      "경기도        4510\n",
      "서울특별시      3579\n",
      "부산광역시      1130\n",
      "경상남도       1017\n",
      "인천광역시      1002\n",
      "경상북도        915\n",
      "대구광역시       870\n",
      "전라북도        862\n",
      "충청남도        830\n",
      "전라남도        811\n",
      "강원도         729\n",
      "광주광역시       691\n",
      "충청북도        648\n",
      "대전광역시       603\n",
      "울산광역시       362\n",
      "제주특별자치도     226\n",
      "세종특별자치시      99\n",
      "Name: count, dtype: int64\n"
     ]
    }
   ],
   "source": [
    "pharmacy_count = df[df['상권업종소분류명'] == '약국']['시도명'].value_counts()\n",
    "print(pharmacy_count)\n"
   ]
  },
  {
   "cell_type": "code",
   "execution_count": null,
   "id": "34cd0a54-ccc9-4ea3-a79f-e237b5363456",
   "metadata": {},
   "outputs": [],
   "source": []
  }
 ],
 "metadata": {
  "kernelspec": {
   "display_name": "Python 3 (ipykernel)",
   "language": "python",
   "name": "python3"
  },
  "language_info": {
   "codemirror_mode": {
    "name": "ipython",
    "version": 3
   },
   "file_extension": ".py",
   "mimetype": "text/x-python",
   "name": "python",
   "nbconvert_exporter": "python",
   "pygments_lexer": "ipython3",
   "version": "3.12.4"
  }
 },
 "nbformat": 4,
 "nbformat_minor": 5
}
